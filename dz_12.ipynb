{
 "cells": [
  {
   "cell_type": "code",
   "id": "initial_id",
   "metadata": {
    "collapsed": true,
    "ExecuteTime": {
     "end_time": "2025-03-08T19:34:33.950073Z",
     "start_time": "2025-03-08T19:34:32.291902Z"
    }
   },
   "source": [
    "import spacy\n",
    "import requests\n",
    "from bs4 import BeautifulSoup"
   ],
   "outputs": [],
   "execution_count": 1
  },
  {
   "metadata": {
    "ExecuteTime": {
     "end_time": "2025-03-08T19:42:44.952618Z",
     "start_time": "2025-03-08T19:42:43.103219Z"
    }
   },
   "cell_type": "code",
   "source": "nlp = spacy.load(\"uk_core_news_sm\")",
   "id": "fc5ba76341329e1e",
   "outputs": [
    {
     "ename": "OSError",
     "evalue": "[E050] Can't find model 'uk_core_news_sm'. It doesn't seem to be a Python package or a valid path to a data directory.",
     "output_type": "error",
     "traceback": [
      "\u001B[1;31m---------------------------------------------------------------------------\u001B[0m",
      "\u001B[1;31mOSError\u001B[0m                                   Traceback (most recent call last)",
      "Cell \u001B[1;32mIn[9], line 1\u001B[0m\n\u001B[1;32m----> 1\u001B[0m nlp \u001B[38;5;241m=\u001B[39m spacy\u001B[38;5;241m.\u001B[39mload(\u001B[38;5;124m\"\u001B[39m\u001B[38;5;124muk_core_news_sm\u001B[39m\u001B[38;5;124m\"\u001B[39m)\n",
      "File \u001B[1;32m~\\miniconda3\\Lib\\site-packages\\spacy\\__init__.py:51\u001B[0m, in \u001B[0;36mload\u001B[1;34m(name, vocab, disable, enable, exclude, config)\u001B[0m\n\u001B[0;32m     27\u001B[0m \u001B[38;5;28;01mdef\u001B[39;00m \u001B[38;5;21mload\u001B[39m(\n\u001B[0;32m     28\u001B[0m     name: Union[\u001B[38;5;28mstr\u001B[39m, Path],\n\u001B[0;32m     29\u001B[0m     \u001B[38;5;241m*\u001B[39m,\n\u001B[1;32m   (...)\u001B[0m\n\u001B[0;32m     34\u001B[0m     config: Union[Dict[\u001B[38;5;28mstr\u001B[39m, Any], Config] \u001B[38;5;241m=\u001B[39m util\u001B[38;5;241m.\u001B[39mSimpleFrozenDict(),\n\u001B[0;32m     35\u001B[0m ) \u001B[38;5;241m-\u001B[39m\u001B[38;5;241m>\u001B[39m Language:\n\u001B[0;32m     36\u001B[0m \u001B[38;5;250m    \u001B[39m\u001B[38;5;124;03m\"\"\"Load a spaCy model from an installed package or a local path.\u001B[39;00m\n\u001B[0;32m     37\u001B[0m \n\u001B[0;32m     38\u001B[0m \u001B[38;5;124;03m    name (str): Package name or model path.\u001B[39;00m\n\u001B[1;32m   (...)\u001B[0m\n\u001B[0;32m     49\u001B[0m \u001B[38;5;124;03m    RETURNS (Language): The loaded nlp object.\u001B[39;00m\n\u001B[0;32m     50\u001B[0m \u001B[38;5;124;03m    \"\"\"\u001B[39;00m\n\u001B[1;32m---> 51\u001B[0m     \u001B[38;5;28;01mreturn\u001B[39;00m util\u001B[38;5;241m.\u001B[39mload_model(\n\u001B[0;32m     52\u001B[0m         name,\n\u001B[0;32m     53\u001B[0m         vocab\u001B[38;5;241m=\u001B[39mvocab,\n\u001B[0;32m     54\u001B[0m         disable\u001B[38;5;241m=\u001B[39mdisable,\n\u001B[0;32m     55\u001B[0m         enable\u001B[38;5;241m=\u001B[39menable,\n\u001B[0;32m     56\u001B[0m         exclude\u001B[38;5;241m=\u001B[39mexclude,\n\u001B[0;32m     57\u001B[0m         config\u001B[38;5;241m=\u001B[39mconfig,\n\u001B[0;32m     58\u001B[0m     )\n",
      "File \u001B[1;32m~\\miniconda3\\Lib\\site-packages\\spacy\\util.py:472\u001B[0m, in \u001B[0;36mload_model\u001B[1;34m(name, vocab, disable, enable, exclude, config)\u001B[0m\n\u001B[0;32m    470\u001B[0m \u001B[38;5;28;01mif\u001B[39;00m name \u001B[38;5;129;01min\u001B[39;00m OLD_MODEL_SHORTCUTS:\n\u001B[0;32m    471\u001B[0m     \u001B[38;5;28;01mraise\u001B[39;00m \u001B[38;5;167;01mIOError\u001B[39;00m(Errors\u001B[38;5;241m.\u001B[39mE941\u001B[38;5;241m.\u001B[39mformat(name\u001B[38;5;241m=\u001B[39mname, full\u001B[38;5;241m=\u001B[39mOLD_MODEL_SHORTCUTS[name]))  \u001B[38;5;66;03m# type: ignore[index]\u001B[39;00m\n\u001B[1;32m--> 472\u001B[0m \u001B[38;5;28;01mraise\u001B[39;00m \u001B[38;5;167;01mIOError\u001B[39;00m(Errors\u001B[38;5;241m.\u001B[39mE050\u001B[38;5;241m.\u001B[39mformat(name\u001B[38;5;241m=\u001B[39mname))\n",
      "\u001B[1;31mOSError\u001B[0m: [E050] Can't find model 'uk_core_news_sm'. It doesn't seem to be a Python package or a valid path to a data directory."
     ]
    }
   ],
   "execution_count": 9
  },
  {
   "metadata": {
    "ExecuteTime": {
     "end_time": "2025-03-08T19:34:33.968639Z",
     "start_time": "2025-03-08T19:34:33.962092Z"
    }
   },
   "cell_type": "code",
   "source": [
    "\n",
    "def get_news_text_from_url(url):\n",
    "    \"\"\"\"отримання тексту з веб-сторінки\"\"\"\n",
    "    try:\n",
    "        headers = {'User-Agent': 'Mozilla/5.0'}\n",
    "        response = requests.get(url, headers=headers)\n",
    "        response.raise_for_status()\n",
    "        soup = BeautifulSoup(response.text, 'html.parser')\n",
    "\n",
    "        # Знаходимо блок із текстом (для ukr.net це може бути div з класом \"description\")\n",
    "        description = soup.find('div', class_='description')\n",
    "        if description:\n",
    "            return description.get_text(separator='\\n', strip=True)\n",
    "        else:\n",
    "            return \"Не вдалося знайти текст статті на сторінці.\"\n",
    "    except requests.RequestException as e:\n",
    "        return f\"Помилка при завантаженні сторінки: {e}\""
   ],
   "id": "aef2526167bafabe",
   "outputs": [],
   "execution_count": 2
  },
  {
   "metadata": {
    "ExecuteTime": {
     "end_time": "2025-03-08T19:34:34.656949Z",
     "start_time": "2025-03-08T19:34:34.652301Z"
    }
   },
   "cell_type": "code",
   "source": "news_url = \"https://www.ukr.net/news/details/companies/novitnij_elektronavantazhuvach_bokoder_nimecka_yakist_ta_innovaciyi_vidteper_v_ukrayini-112.html\"\n",
   "id": "99dbac4172b3cafa",
   "outputs": [],
   "execution_count": 3
  },
  {
   "metadata": {
    "ExecuteTime": {
     "end_time": "2025-03-08T19:36:35.919718Z",
     "start_time": "2025-03-08T19:36:35.914598Z"
    }
   },
   "cell_type": "code",
   "source": "news_url = \"https://www.ukr.net/news/details/companies/sunvita_group_naroshuye_virobnictvo_pershoyi_v_ukrayini_chornoyi_vologoyi_servetki_naturelle-106.html\"",
   "id": "68e3b0166efbfae",
   "outputs": [],
   "execution_count": 6
  },
  {
   "metadata": {
    "ExecuteTime": {
     "end_time": "2025-03-08T19:36:38.442020Z",
     "start_time": "2025-03-08T19:36:37.088589Z"
    }
   },
   "cell_type": "code",
   "source": [
    "# Отримуємо текст із сайту\n",
    "news_text = get_news_text_from_url(news_url)"
   ],
   "id": "34b26a92010dc511",
   "outputs": [],
   "execution_count": 7
  },
  {
   "metadata": {
    "ExecuteTime": {
     "end_time": "2025-03-08T19:36:39.395671Z",
     "start_time": "2025-03-08T19:36:39.389053Z"
    }
   },
   "cell_type": "code",
   "source": "news_text",
   "id": "4d2bcba3cc2ae4bf",
   "outputs": [
    {
     "data": {
      "text/plain": [
       "'Лідер із\\nвиробництва вологих серветок в Україні\\nSunvita Group\\n, завод якого знаходиться в Івано-Франківській області, розширює лінійку першої в Україні чорної вологої серветки Naturelle та вдвічі збільшує об\\'єми виробництва.\\nЯк повідомили в компанії, на сьогодні український ринок вологих серветок перенасичений продукцією білого кольору. Так виникла ідея надати споживачеві оригінальний вибір – кольорові серветки високої якості. У 2023 році була розроблена інноваційна технологія виробництва\\nчорної вологої серветки Naturelle\\n, яка запатентована у Державному реєстрі України 14.02.2024 (св-во №46299).\\n«Український споживач із великим інтересом сприйняв наш новий продукт. Адже це не просто оригінальна кольорова серветка, а продукція преміальної якості, яка створює відчуття унікальності та новизни. Це перша та єдина на ринку серветка такого формату із запатентованою технологією. Серветки «Naturelle» Чорні Classic відразу показали позитивну динаміку на ринку й надалі попит на неї у категорії вологих серветок буде високим», –\\xa0розповів Ігор Левшун, директор Sunvita Group.\\nТакож він поділився об\\'ємами виробництва: у 2024 році на заводі було виготовлено близько 400 млн штук чорних вологих серветок, а в нинішньому році планується збільшити виробництво до 820 млн штук тільки для продажу в Україні. Також у планах компанії –\\xa0розширення лінійки кольорових серветок під ТМ Naturelle та Purfix.\\nНа сьогодні чорні вологі серветки Naturelle продаються в найбільших торгових мережах України (Novus, Велика кишеня, Фора, Аврора, Епіцентр, Копійочка та інші) та є фаворитом в експортній категорії (поставляються до країн Балтії, до Польщі, Румунії, Словаччини, Молдови, Грузії).\\nПро Sunvita Group\\nSunvita Group – провідний український виробник, що спеціалізується на засобах особистої гігієни, побутовій продукції для чистоти та догляду, постійно вдосконалює виробничі процеси та інвестує в інновації.\\nКомпанія була створена у 2016 році і на сьогодні є лідером в категорії \"вологі серветки\". Єдиний виробник валиків для чищення одягу та поверхонь, перший та єдиний виробник чорних і кольорових вологих серветок в Україні.\\nВиробництво Sunvita Group знаходиться в Івано-Франківській області, с. Хутір-Будилів. У 2024 році виробничі потужності компанії були розширені до 8 нових сучасних ліній для виготовлення вологих серветок різного формату, запущено нове та єдине в Україні виробництво валиків для чищення, а також сучасний логістично-виробничий комплекс площею 5 500 м².\\nSunvita Group виготовляє вологі серветки, вологий туалетний папір, валики для чистки одягу та поверхонь під ТМ Naturelle, Super Baby, Purfix, Summer Fresh та спеціалізується на виготовленні власних торгових марок для найбільших мереж України та країн ЄС.'"
      ]
     },
     "execution_count": 8,
     "metadata": {},
     "output_type": "execute_result"
    }
   ],
   "execution_count": 8
  },
  {
   "metadata": {},
   "cell_type": "code",
   "outputs": [],
   "execution_count": null,
   "source": "",
   "id": "d28116e62174e348"
  }
 ],
 "metadata": {
  "kernelspec": {
   "display_name": "Python 3",
   "language": "python",
   "name": "python3"
  },
  "language_info": {
   "codemirror_mode": {
    "name": "ipython",
    "version": 2
   },
   "file_extension": ".py",
   "mimetype": "text/x-python",
   "name": "python",
   "nbconvert_exporter": "python",
   "pygments_lexer": "ipython2",
   "version": "2.7.6"
  }
 },
 "nbformat": 4,
 "nbformat_minor": 5
}
